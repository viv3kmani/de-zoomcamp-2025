{
 "cells": [
  {
   "cell_type": "code",
   "execution_count": 1,
   "id": "65124f47-62dd-4ab4-b1ce-1e231db053a4",
   "metadata": {},
   "outputs": [],
   "source": [
    "import pandas as pd\n",
    "import sqlalchemy  # Import the module\n",
    "from sqlalchemy import create_engine  \n",
    "from time import time\n",
    "from concurrent.futures import ThreadPoolExecutor\n",
    "import configparser\n"
   ]
  },
  {
   "cell_type": "code",
   "execution_count": 5,
   "id": "d552ce61-0ecf-4b61-8d66-f4f602538876",
   "metadata": {},
   "outputs": [
    {
     "name": "stdout",
     "output_type": "stream",
     "text": [
      "Username: root\n",
      "Password: root\n",
      "Host: localhost\n",
      "Port: 5432\n",
      "Database Name: ny_taxi\n",
      "Dataset Path: /home/vivek/de_zoomcamp_2025/dataset/\n",
      "File Name: yellow_tripdata_2021-01.csv.gz\n"
     ]
    }
   ],
   "source": [
    "config = configparser.ConfigParser()\n",
    "config.read('config.ini')\n",
    "\n",
    "\n",
    "username = config['database']['username']\n",
    "password = config['database']['password']\n",
    "host = config['database']['host']\n",
    "port = config['database']['port']\n",
    "database_name = config['database']['database_name']\n",
    "dataset_path = config['paths']['dataset_path']\n",
    "file_name = config['paths']['file_name']\n"
   ]
  },
  {
   "cell_type": "code",
   "execution_count": null,
   "id": "18c9fa55-1bfa-4494-a928-e835e2fe4168",
   "metadata": {},
   "outputs": [],
   "source": [
    "engine = create_engine(f\"postgresql://{username}:{password}@{host}:{port}/{database}\")\n",
    "df_iter = pd.read_csv(path + file, compression='gzip',parse_dates=['tpep_pickup_datetime' , 'tpep_dropoff_datetime'], iterator=True ,chunksize=100000,low_memory=False)\n",
    "df = next(df_iter)\n",
    "df.head(n=0).to_sql(con =engine , name = 'yellow_taxi_data' , if_exists='replace')"
   ]
  },
  {
   "cell_type": "code",
   "execution_count": null,
   "id": "d3e7a64c-61db-4ec6-babd-521e4e37bae6",
   "metadata": {},
   "outputs": [],
   "source": [
    "\n",
    "\n",
    "# Define the function to process each chunk\n",
    "def process_chunk(chunk_count, df_chunk):\n",
    "    t_start = time()\n",
    "    df_chunk.to_sql(con=engine, name='yellow_taxi_data', if_exists='append')\n",
    "    t_end = time()\n",
    "    print(f'Inserted chunk {chunk_count}, took {t_end - t_start:.3f} seconds')\n",
    "\n",
    "chunk_count = 1\n",
    "threads = []\n",
    "\n",
    "# Initialize ThreadPoolExecutor\n",
    "abs_start = time()\n",
    "with ThreadPoolExecutor(max_workers=None) as executor:  # Adjust max_workers based on your resources\n",
    "    while True:\n",
    "        try:\n",
    "            # Submit a chunk for processing to the thread pool\n",
    "            threads.append(executor.submit(process_chunk, chunk_count, df))\n",
    "            chunk_count += 1\n",
    "            df = next(df_iter)\n",
    "        except StopIteration:\n",
    "            print(\"All chunks have been processed.\")\n",
    "            break\n",
    "# Initialize ThreadPoolExecutor\n",
    "abs_end = time() - abs_start\n",
    "print(f\"{abs_end:.3f} seconds\")\n",
    "\n"
   ]
  },
  {
   "cell_type": "code",
   "execution_count": null,
   "id": "493c7d4e-4580-4401-9341-ecdad16202de",
   "metadata": {},
   "outputs": [],
   "source": []
  }
 ],
 "metadata": {
  "kernelspec": {
   "display_name": "Python 3 (ipykernel)",
   "language": "python",
   "name": "python3"
  },
  "language_info": {
   "codemirror_mode": {
    "name": "ipython",
    "version": 3
   },
   "file_extension": ".py",
   "mimetype": "text/x-python",
   "name": "python",
   "nbconvert_exporter": "python",
   "pygments_lexer": "ipython3",
   "version": "3.10.12"
  }
 },
 "nbformat": 4,
 "nbformat_minor": 5
}
