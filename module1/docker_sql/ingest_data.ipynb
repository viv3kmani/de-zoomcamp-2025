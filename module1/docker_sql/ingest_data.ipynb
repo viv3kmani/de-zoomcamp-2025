{
 "cells": [
  {
   "cell_type": "code",
   "execution_count": 69,
   "id": "65124f47-62dd-4ab4-b1ce-1e231db053a4",
   "metadata": {},
   "outputs": [],
   "source": [
    "import pandas as pd\n",
    "import sqlalchemy  # Import the module\n",
    "from sqlalchemy import create_engine  \n",
    "from time import time"
   ]
  },
  {
   "cell_type": "code",
   "execution_count": 70,
   "id": "d552ce61-0ecf-4b61-8d66-f4f602538876",
   "metadata": {},
   "outputs": [],
   "source": [
    "username = \"root\"\n",
    "password = \"root\"\n",
    "host = \"localhost\"\n",
    "port = \"5432\"  # Default port for PostgreSQL\n",
    "database = \"ny_taxi\"\n",
    "\n",
    "path = \"/home/vivek/de_zoomcamp_2025/dataset/\"\n",
    "file = \"yellow_tripdata_2021-01.csv.gz\""
   ]
  },
  {
   "cell_type": "code",
   "execution_count": 71,
   "id": "18c9fa55-1bfa-4494-a928-e835e2fe4168",
   "metadata": {},
   "outputs": [],
   "source": [
    "engine = create_engine(f\"postgresql://{username}:{password}@{host}:{port}/{database}\")\n"
   ]
  },
  {
   "cell_type": "code",
   "execution_count": 72,
   "id": "0c44f1ef-efd1-4816-93bf-e5c4346993ca",
   "metadata": {},
   "outputs": [],
   "source": [
    "df_iter = pd.read_csv(path + file, compression='gzip',parse_dates=['tpep_pickup_datetime' , 'tpep_dropoff_datetime'], iterator=True ,chunksize=100000,low_memory=False)\n"
   ]
  },
  {
   "cell_type": "code",
   "execution_count": 73,
   "id": "af5688a0-ce0c-4333-938f-d9e98aab0261",
   "metadata": {},
   "outputs": [],
   "source": [
    "df = next(df_iter)"
   ]
  },
  {
   "cell_type": "code",
   "execution_count": 74,
   "id": "c0827e96-9dfa-4a52-9231-f43383850eb8",
   "metadata": {},
   "outputs": [
    {
     "data": {
      "text/plain": [
       "0"
      ]
     },
     "execution_count": 74,
     "metadata": {},
     "output_type": "execute_result"
    }
   ],
   "source": [
    "df.head(n=0).to_sql(con =engine , name = 'yellow_taxi_data' , if_exists='replace')"
   ]
  },
  {
   "cell_type": "code",
   "execution_count": 76,
   "id": "8fe28f92-f8c9-4919-9ea2-687492ad739c",
   "metadata": {},
   "outputs": [
    {
     "name": "stdout",
     "output_type": "stream",
     "text": [
      "Inserted another chunk 1, took 7.751 seconds\n",
      "Inserted another chunk 2, took 6.350 seconds\n",
      "Inserted another chunk 3, took 7.196 seconds\n",
      "Inserted another chunk 4, took 7.285 seconds\n",
      "Inserted another chunk 5, took 7.385 seconds\n",
      "Inserted another chunk 6, took 5.856 seconds\n",
      "Inserted another chunk 7, took 7.503 seconds\n",
      "Inserted another chunk 8, took 7.484 seconds\n",
      "Inserted another chunk 9, took 7.375 seconds\n",
      "Inserted another chunk 10, took 6.081 seconds\n",
      "Inserted another chunk 11, took 7.303 seconds\n",
      "Inserted another chunk 12, took 7.026 seconds\n",
      "Inserted another chunk 13, took 7.594 seconds\n",
      "Inserted another chunk 14, took 3.221 seconds\n",
      "All chunks have been processed.\n"
     ]
    }
   ],
   "source": [
    "chunk_count = 1\n",
    "while True :\n",
    "    try:\n",
    "        t_start = time()\n",
    "        df.to_sql(con=engine, name='yellow_taxi_data', if_exists='append')\n",
    "        t_end = time()\n",
    "        print(f'Inserted another chunk {chunk_count}, took {t_end - t_start:.3f} seconds')\n",
    "        chunk_count += 1\n",
    "        df = next(df_iter)\n",
    "    except StopIteration:\n",
    "        print(\"All chunks have been processed.\")\n",
    "        break"
   ]
  },
  {
   "cell_type": "code",
   "execution_count": null,
   "id": "a96b295c-73ab-4ac3-b038-1404f8d86632",
   "metadata": {},
   "outputs": [],
   "source": []
  }
 ],
 "metadata": {
  "kernelspec": {
   "display_name": "Python 3 (ipykernel)",
   "language": "python",
   "name": "python3"
  },
  "language_info": {
   "codemirror_mode": {
    "name": "ipython",
    "version": 3
   },
   "file_extension": ".py",
   "mimetype": "text/x-python",
   "name": "python",
   "nbconvert_exporter": "python",
   "pygments_lexer": "ipython3",
   "version": "3.10.12"
  }
 },
 "nbformat": 4,
 "nbformat_minor": 5
}
