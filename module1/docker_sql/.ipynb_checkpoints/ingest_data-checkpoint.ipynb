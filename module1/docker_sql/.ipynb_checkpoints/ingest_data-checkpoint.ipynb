{
 "cells": [
  {
   "cell_type": "code",
   "execution_count": 14,
   "id": "65124f47-62dd-4ab4-b1ce-1e231db053a4",
   "metadata": {},
   "outputs": [],
   "source": [
    "import pandas as pd\n",
    "import sqlalchemy  # Import the module\n",
    "from sqlalchemy import create_engine  \n",
    "from time import time"
   ]
  },
  {
   "cell_type": "code",
   "execution_count": 27,
   "id": "d552ce61-0ecf-4b61-8d66-f4f602538876",
   "metadata": {},
   "outputs": [],
   "source": [
    "username = \"root\"\n",
    "password = \"root\"\n",
    "host = \"localhost\"\n",
    "port = \"5432\"  # Default port for PostgreSQL\n",
    "database = \"ny_taxi\"\n",
    "\n",
    "path = \"/home/vivek/de_zoomcamp_2025/dataset/\"\n",
    "file = \"yellow_tripdata_2021-01.csv.gz\""
   ]
  },
  {
   "cell_type": "code",
   "execution_count": 28,
   "id": "18c9fa55-1bfa-4494-a928-e835e2fe4168",
   "metadata": {},
   "outputs": [
    {
     "data": {
      "text/plain": [
       "0"
      ]
     },
     "execution_count": 28,
     "metadata": {},
     "output_type": "execute_result"
    }
   ],
   "source": [
    "engine = create_engine(f\"postgresql://{username}:{password}@{host}:{port}/{database}\")\n",
    "df_iter = pd.read_csv(path + file, compression='gzip',parse_dates=['tpep_pickup_datetime' , 'tpep_dropoff_datetime'], iterator=True ,chunksize=100000,low_memory=False)\n",
    "df = next(df_iter)\n",
    "df.head(n=0).to_sql(con =engine , name = 'yellow_taxi_data' , if_exists='replace')"
   ]
  },
  {
   "cell_type": "code",
   "execution_count": 76,
   "id": "8fe28f92-f8c9-4919-9ea2-687492ad739c",
   "metadata": {},
   "outputs": [
    {
     "name": "stdout",
     "output_type": "stream",
     "text": [
      "Inserted another chunk 1, took 7.751 seconds\n",
      "Inserted another chunk 2, took 6.350 seconds\n",
      "Inserted another chunk 3, took 7.196 seconds\n",
      "Inserted another chunk 4, took 7.285 seconds\n",
      "Inserted another chunk 5, took 7.385 seconds\n",
      "Inserted another chunk 6, took 5.856 seconds\n",
      "Inserted another chunk 7, took 7.503 seconds\n",
      "Inserted another chunk 8, took 7.484 seconds\n",
      "Inserted another chunk 9, took 7.375 seconds\n",
      "Inserted another chunk 10, took 6.081 seconds\n",
      "Inserted another chunk 11, took 7.303 seconds\n",
      "Inserted another chunk 12, took 7.026 seconds\n",
      "Inserted another chunk 13, took 7.594 seconds\n",
      "Inserted another chunk 14, took 3.221 seconds\n",
      "All chunks have been processed.\n"
     ]
    }
   ],
   "source": [
    "chunk_count = 1\n",
    "\n",
    "while True :\n",
    "    try:\n",
    "        t_start = time()\n",
    "        df.to_sql(con=engine, name='yellow_taxi_data', if_exists='append')\n",
    "        t_end = time()\n",
    "        print(f'Inserted another chunk {chunk_count}, took {t_end - t_start:.3f} seconds')\n",
    "        chunk_count += 1\n",
    "        df = next(df_iter)\n",
    "    except StopIteration:\n",
    "        print(\"All chunks have been processed.\")\n",
    "        break"
   ]
  },
  {
   "cell_type": "code",
   "execution_count": 3,
   "id": "a96b295c-73ab-4ac3-b038-1404f8d86632",
   "metadata": {},
   "outputs": [],
   "source": [
    "import threading\n",
    "import time\n"
   ]
  },
  {
   "cell_type": "code",
   "execution_count": 31,
   "id": "d3e7a64c-61db-4ec6-babd-521e4e37bae6",
   "metadata": {},
   "outputs": [
    {
     "name": "stdout",
     "output_type": "stream",
     "text": [
      "Inserted chunk 1, took 8.347 seconds\n",
      "Inserted chunk 2, took 9.393 seconds\n",
      "Inserted chunk 3, took 9.242 seconds\n",
      "Inserted chunk 4, took 9.305 seconds\n",
      "Inserted chunk 5, took 9.319 seconds\n",
      "Inserted chunk 6, took 9.604 seconds\n",
      "Inserted chunk 7, took 9.168 seconds\n",
      "Inserted chunk 8, took 9.271 seconds\n",
      "Inserted chunk 9, took 9.429 seconds\n",
      "Inserted chunk 10, took 9.513 seconds\n",
      "Inserted chunk 11, took 9.613 seconds\n",
      "Inserted chunk 12, took 9.954 seconds\n",
      "All chunks have been processed.\n",
      "Inserted chunk 13, took 9.231 seconds\n",
      "Inserted chunk 14, took 5.974 seconds\n",
      "66.296 seconds\n"
     ]
    }
   ],
   "source": [
    "from concurrent.futures import ThreadPoolExecutor\n",
    "from time import time\n",
    "\n",
    "# Define the function to process each chunk\n",
    "def process_chunk(chunk_count, df_chunk):\n",
    "    t_start = time()\n",
    "    df_chunk.to_sql(con=engine, name='yellow_taxi_data', if_exists='append')\n",
    "    t_end = time()\n",
    "    print(f'Inserted chunk {chunk_count}, took {t_end - t_start:.3f} seconds')\n",
    "\n",
    "chunk_count = 1\n",
    "threads = []\n",
    "\n",
    "# Initialize ThreadPoolExecutor\n",
    "abs_start = time()\n",
    "with ThreadPoolExecutor(max_workers=None) as executor:  # Adjust max_workers based on your resources\n",
    "    while True:\n",
    "        try:\n",
    "            # Submit a chunk for processing to the thread pool\n",
    "            threads.append(executor.submit(process_chunk, chunk_count, df))\n",
    "            chunk_count += 1\n",
    "            df = next(df_iter)\n",
    "        except StopIteration:\n",
    "            print(\"All chunks have been processed.\")\n",
    "            break\n",
    "# Initialize ThreadPoolExecutor\n",
    "abs_end = time() - abs_start\n",
    "print(f\"{abs_end:.3f} seconds\")\n",
    "\n",
    "# Optionally, ensure all threads complete\n",
    "for thread in threads:\n",
    "    thread.result()\n"
   ]
  },
  {
   "cell_type": "code",
   "execution_count": 25,
   "id": "9b4627b4-a7f9-4979-9df3-d9696eb6404e",
   "metadata": {},
   "outputs": [],
   "source": [
    "\n",
    "# Optionally, ensure all threads complete\n",
    "for thread in threads:\n",
    "    thread.result()"
   ]
  },
  {
   "cell_type": "code",
   "execution_count": 26,
   "id": "468c88d6-ef4a-4a4f-808e-cd754f2e5bd4",
   "metadata": {},
   "outputs": [
    {
     "name": "stdout",
     "output_type": "stream",
     "text": [
      "8\n"
     ]
    }
   ],
   "source": [
    "import os\n",
    "print(os.cpu_count())  # Returns the number of logical cores\n"
   ]
  },
  {
   "cell_type": "code",
   "execution_count": null,
   "id": "493c7d4e-4580-4401-9341-ecdad16202de",
   "metadata": {},
   "outputs": [],
   "source": []
  }
 ],
 "metadata": {
  "kernelspec": {
   "display_name": "Python 3 (ipykernel)",
   "language": "python",
   "name": "python3"
  },
  "language_info": {
   "codemirror_mode": {
    "name": "ipython",
    "version": 3
   },
   "file_extension": ".py",
   "mimetype": "text/x-python",
   "name": "python",
   "nbconvert_exporter": "python",
   "pygments_lexer": "ipython3",
   "version": "3.10.12"
  }
 },
 "nbformat": 4,
 "nbformat_minor": 5
}
